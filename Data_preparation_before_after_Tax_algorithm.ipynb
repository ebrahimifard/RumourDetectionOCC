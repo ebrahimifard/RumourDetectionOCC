{
 "cells": [
  {
   "cell_type": "code",
   "execution_count": null,
   "metadata": {},
   "outputs": [],
   "source": [
    "import pandas as pd\n",
    "import numpy as np\n",
    "import seaborn as sns\n",
    "import matplotlib.pyplot as plt\n",
    "import scipy.io"
   ]
  },
  {
   "cell_type": "code",
   "execution_count": null,
   "metadata": {},
   "outputs": [],
   "source": [
    "zRumour = pd.DataFrame.from_csv(\"./zubiagaFeatures_rumours.csv\")\n",
    "zNonRumour = pd.DataFrame.from_csv(\"./zubiagaFeatures_nonRumours.csv\")\n",
    "kRumour = pd.DataFrame.from_csv(\"./kwonFeatures_rumours.csv\") \n",
    "kNonRumour = pd.DataFrame.from_csv(\"./kwonFeatures_nonRumours.csv\")"
   ]
  },
  {
   "cell_type": "code",
   "execution_count": null,
   "metadata": {},
   "outputs": [],
   "source": [
    "linguisticFeatures = [\"exclamationMarkCount\",\"questionMarkCount\",\"characterCount\",\"tokenCount\",\"subjectivity\",\\\n",
    "                      \"polarity\",\"uppercaseCount\",\"lowerCaseCount\",\"firstPersonPronounCount\",\"secondPersonPronounCount\",\\\n",
    "                      \"thirdPersonPronounCount\",\"capitalWordsCount\",\"averageWordComplexity\",\"vuglarTermsCount\",\\\n",
    "                      \"emoticonCount\",\"abbreviationCount\",\"emojiCount\",\"posAdjectiveCount\",\"posAdpositionCount\",\\\n",
    "                      \"posAdverbCount\",\"posAuxiliaryCount\",\"posConjunctionCount\",\"posDeterminerCount\",\\\n",
    "                      \"posInterjectionCount\",\"posNounCount\",\"posNumeralCount\",\"posParticleCount\",\"posPronounCount\",\\\n",
    "                      \"posProperNounCount\",\"posPunctuationCount\",\"posSubordinatingConjunctionCount\",\"posSymbolCount\",\\\n",
    "                      \"posVerbCount\",\"posOtherCount\",\"posSpaceCount\",\"nerPersonCount\",\"nerNationalityCount\",\\\n",
    "                      \"nerBuildingCount\",\"nerOrganizationCount\",\"nerCountriesCount\",\"nerLocationCount\",\"nerProductCount\",\\\n",
    "                      \"nerEventCount\",\"nerArtCount\",\"nerLawCount\",\"nerLanguageCount\",\"nerDateCount\",\"nerTimeCount\",\\\n",
    "                      \"nerMoneyCount\",\"nerQuantityCount\",\"nerOrdinalCount\",\"nerCardinalCount\",\"insight\",\"tentative\",\\\n",
    "                      \"positiveEmotion\",\"negativeEmotion\",\"anxiety\",\"certainty\",\"tone\",\"sentenceComplexity\"]\n",
    "userFeatures = [\"hasProfileDescription\",\"isVerifiedAccount\",\"statusCount\",\"followingCount\",\\\n",
    "                \"influnece\",\"userRole\",\"totalProfileLikesCount\",\"accountAge\",\"protectedProfile\",\\\n",
    "                \"hasProfileLocation\",\"hasProfilePicture\",\"averageFollowSpeed\",\\\n",
    "                \"averageBeingFollowedSpeed\",\"averageLikeSpeed\",\"averageStatusSpeed\",\"screenNameLength\",\\\n",
    "                \"screenNameDigitCount\"]\n",
    "metaFeatures = [\"hashtagCount\",\"mentionCount\",\"hasUrl\",\"tweetPostTime\",\"geoEnabled\"]"
   ]
  },
  {
   "cell_type": "code",
   "execution_count": null,
   "metadata": {},
   "outputs": [],
   "source": [
    "#Generating MATLAB tailored data\n",
    "################## ATTENTION #####################\n",
    "# JUST USE MATLAB WIZARD FOR IMPORTING YOUR DATA #\n",
    "## Python output does not readble for MATLAB :(\n",
    "# scipy.io.savemat('./Tax/kR_ling.mat', {'struct':kR_ling})\n",
    "# scipy.io.savemat('./Tax/kR_user.mat', {'struct':kR_user})\n",
    "# scipy.io.savemat('./Tax/kR_meta.mat', {'struct':kR_meta})\n",
    "# scipy.io.savemat('./Tax/zR_ling.mat', {'struct':zR_ling})\n",
    "# scipy.io.savemat('./Tax/zR_user.mat', {'struct':zR_user})\n",
    "# scipy.io.savemat('./Tax/zR_meta.mat', {'struct':zR_meta})\n",
    "\n",
    "# scipy.io.savemat('./Tax/kNR_ling.mat', {'struct':kNR_ling})\n",
    "# scipy.io.savemat('./Tax/kNR_user.mat', {'struct':kNR_user})\n",
    "# scipy.io.savemat('./Tax/kNR_meta.mat', {'struct':kNR_meta})\n",
    "# scipy.io.savemat('./Tax/zNR_ling.mat', {'struct':zNR_ling})\n",
    "# scipy.io.savemat('./Tax/zNR_user.mat', {'struct':zNR_user})\n",
    "# scipy.io.savemat('./Tax/zNR_meta.mat', {'struct':zNR_meta})"
   ]
  },
  {
   "cell_type": "code",
   "execution_count": null,
   "metadata": {},
   "outputs": [],
   "source": [
    "#Saving the files in order to be read by MATLAB\n",
    "\n",
    "pd.DataFrame.to_csv(kRumour[linguisticFeatures],\"./Tax/kR_ling.csv\")\n",
    "pd.DataFrame.to_csv(kRumour[userFeatures],\"./Tax/kR_user.csv\")\n",
    "pd.DataFrame.to_csv(kRumour[metaFeatures], \"./Tax/kR_meta.csv\")\n",
    "\n",
    "pd.DataFrame.to_csv(zRumour[linguisticFeatures],\"./Tax/zR_ling.csv\")\n",
    "pd.DataFrame.to_csv(zRumour[userFeatures], \"./Tax/zR_user.csv\")\n",
    "pd.DataFrame.to_csv(zRumour[metaFeatures], \"./Tax/zR_meta.csv\")\n",
    "\n",
    "pd.DataFrame.to_csv(kNonRumour[linguisticFeatures], \"./Tax/kNR_ling.csv\")\n",
    "pd.DataFrame.to_csv(kNonRumour[userFeatures], \"./Tax/kNR_user.csv\")\n",
    "pd.DataFrame.to_csv(kNonRumour[metaFeatures], \"./Tax/kNR_meta.csv\")\n",
    "\n",
    "pd.DataFrame.to_csv(zNonRumour[linguisticFeatures], \"./Tax/zNR_ling.csv\")\n",
    "pd.DataFrame.to_csv(zNonRumour[userFeatures], \"./Tax/zNR_user.csv\")\n",
    "pd.DataFrame.to_csv(zNonRumour[metaFeatures], \"./Tax/zNR_meta.csv\")"
   ]
  },
  {
   "cell_type": "code",
   "execution_count": null,
   "metadata": {},
   "outputs": [],
   "source": [
    "# Remember to change the data type from table to matrix double when you are importing #"
   ]
  },
  {
   "cell_type": "code",
   "execution_count": null,
   "metadata": {},
   "outputs": [],
   "source": [
    "# After calculation of f-score and accuracy, copy the values to a blank excel sheet, add columns and indeces, and then save\n",
    "# the file as a csv file with csvwrite command"
   ]
  },
  {
   "cell_type": "code",
   "execution_count": null,
   "metadata": {},
   "outputs": [],
   "source": [
    "zF1 = pd.DataFrame.from_csv('./Tax/zF1.csv',sep=\";\")\n",
    "zACC = pd.DataFrame.from_csv('./Tax/zACC.csv',sep=\";\")\n",
    "\n",
    "zF1_Ling = pd.DataFrame.from_csv('./Tax/z_LingF1.csv',sep=\";\")\n",
    "zACC_Ling = pd.DataFrame.from_csv('./Tax/z_LingACC.csv',sep=\";\")\n",
    "\n",
    "zF1_User = pd.DataFrame.from_csv('./Tax/z_UserF1.csv',sep=\";\")\n",
    "zACC_User = pd.DataFrame.from_csv('./Tax/z_UserACC.csv',sep=\";\")\n",
    "\n",
    "zF1_Meta = pd.DataFrame.from_csv('./Tax/z_MetaF1.csv',sep=\";\")\n",
    "zACC_Meta = pd.DataFrame.from_csv('./Tax/z_MetaACC.csv',sep=\";\")"
   ]
  },
  {
   "cell_type": "code",
   "execution_count": null,
   "metadata": {},
   "outputs": [],
   "source": [
    "# DO NOT FORGET TO DEACTIVATE COLORBAR (cbar) for all the figures except Meta\n",
    "sns.heatmap(zF1, cmap=\"Blues\", vmin=0, vmax=0.7, cbar=False)\n",
    "plt.savefig('df_z_F1_TAX.eps')\n",
    "plt.xlabel(r'$\\gamma$')\n",
    "plt.ylabel(\"Regularization\")\n",
    "plt.show()\n",
    "\n",
    "sns.heatmap(zACC, cmap=\"Blues\", vmin=0, vmax=0.8, cbar=False)\n",
    "plt.savefig('df_z_ACC_TAX.eps')\n",
    "plt.xlabel(r'$\\gamma$')\n",
    "plt.ylabel(\"Regularization\")\n",
    "plt.show()\n",
    "\n",
    "sns.heatmap(zF1_Ling, cmap=\"Blues\", vmin=0, vmax=0.7, cbar=False)\n",
    "plt.savefig('df_zL_F1_TAX.eps')\n",
    "plt.xlabel(r'$\\gamma$')\n",
    "plt.ylabel(\"Regularization\")\n",
    "plt.show()\n",
    "\n",
    "sns.heatmap(zACC_Ling, cmap=\"Blues\", vmin=0, vmax=0.8, cbar=False)\n",
    "plt.savefig('df_zL_ACC_TAX.eps')\n",
    "plt.xlabel(r'$\\gamma$')\n",
    "plt.ylabel(\"Regularization\")\n",
    "plt.show()\n",
    "\n",
    "sns.heatmap(zF1_User, cmap=\"Blues\", vmin=0, vmax=0.7, cbar=False)\n",
    "plt.savefig('df_zU_F1_TAX.eps')\n",
    "plt.xlabel(r'$\\gamma$')\n",
    "plt.ylabel(\"Regularization\")\n",
    "plt.show()\n",
    "\n",
    "sns.heatmap(zACC_User, cmap=\"Blues\", vmin=0, vmax=0.8, cbar=False)\n",
    "plt.savefig('df_zU_ACC_TAX.eps')\n",
    "plt.xlabel(r'$\\gamma$')\n",
    "plt.ylabel(\"Regularization\")\n",
    "plt.show()\n",
    "\n",
    "sns.heatmap(zF1_Meta, cmap=\"Blues\", vmin=0, vmax=0.7)\n",
    "plt.savefig('df_zM_F1_TAX.eps')\n",
    "plt.xlabel(r'$\\gamma$')\n",
    "plt.ylabel(\"Regularization\")\n",
    "plt.show()\n",
    "\n",
    "sns.heatmap(zACC_Meta, cmap=\"Blues\", vmin=0, vmax=0.8)\n",
    "plt.savefig('df_zM_ACC_TAX.eps')\n",
    "plt.xlabel(r'$\\gamma$')\n",
    "plt.ylabel(\"Regularization\")\n",
    "plt.show()"
   ]
  }
 ],
 "metadata": {
  "kernelspec": {
   "display_name": "Python 3",
   "language": "python",
   "name": "python3"
  },
  "language_info": {
   "codemirror_mode": {
    "name": "ipython",
    "version": 3
   },
   "file_extension": ".py",
   "mimetype": "text/x-python",
   "name": "python",
   "nbconvert_exporter": "python",
   "pygments_lexer": "ipython3",
   "version": "3.6.3"
  }
 },
 "nbformat": 4,
 "nbformat_minor": 2
}
