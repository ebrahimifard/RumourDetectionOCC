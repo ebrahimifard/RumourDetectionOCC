{
 "cells": [
  {
   "cell_type": "code",
   "execution_count": 7,
   "metadata": {},
   "outputs": [],
   "source": [
    "import os\n",
    "import tweepy\n",
    "import json\n",
    "import time\n",
    "from tqdm import tqdm\n",
    "from pprint import pprint"
   ]
  },
  {
   "cell_type": "markdown",
   "metadata": {},
   "source": [
    "In this peice of code we store the collected tweets by Kwon et al as json files"
   ]
  },
  {
   "cell_type": "code",
   "execution_count": 3,
   "metadata": {},
   "outputs": [],
   "source": [
    "auth = []\n",
    "for c in open(\"auth.txt\").readlines():\n",
    "    auth.append(c)\n",
    "\n",
    "consumerKey = auth[0].strip() # (API Key)\n",
    "consumerSecret = auth[1].strip() #(API Secret)\n",
    "accessToken = auth[2].strip()\n",
    "accessTokenSecret = auth[3].strip()"
   ]
  },
  {
   "cell_type": "code",
   "execution_count": 4,
   "metadata": {},
   "outputs": [],
   "source": [
    "auth = tweepy.OAuthHandler(consumerKey, consumerSecret)\n",
    "auth.set_access_token(accessToken, accessTokenSecret)\n",
    "api = tweepy.API(auth)"
   ]
  },
  {
   "cell_type": "code",
   "execution_count": 5,
   "metadata": {},
   "outputs": [],
   "source": [
    "# This is a path to store Kwon tweets\n",
    "KWON_tweetSetPath = \"\""
   ]
  },
  {
   "cell_type": "code",
   "execution_count": null,
   "metadata": {},
   "outputs": [],
   "source": [
    "failedAttempt = 0\n",
    "successfullAttempt = 0\n",
    "for file in tqdm(os.listdir(KWON_tweetSetPath)):\n",
    "    for line in open(KWON_tweetSetPath + file).readlines():\n",
    "        try:\n",
    "            tweet_id = line.split(\"\\t\")[1]\n",
    "            start_time = time.time()\n",
    "            tweetObject = api.get_status(tweet_id, tweet_mode=\"extended\")\n",
    "            end_time = time.time()\n",
    "            elapsedTime = end_time - start_time\n",
    "            if elapsedTime < 1.0:\n",
    "                time.sleep(1)\n",
    "            accessFlag = True\n",
    "            successfullAttempt += 1\n",
    "        except:\n",
    "            accessFlag = False\n",
    "            failedAttempt += 1\n",
    "        if accessFlag:\n",
    "            directory = file.replace(\".txt\",\"\")\n",
    "            if directory in os.listdir(\"./tweets/\"):\n",
    "                json.dump(tweetObject._json, open(f'./tweets/{directory}/{tweet_id}.json',\"w\"))\n",
    "            else:\n",
    "                os.mkdir(f'./tweets/{directory}/')\n",
    "                json.dump(tweetObject._json, open(f'./tweets/{directory}/{tweet_id}.json',\"w\"))"
   ]
  }
 ],
 "metadata": {
  "kernelspec": {
   "display_name": "Python 3",
   "language": "python",
   "name": "python3"
  },
  "language_info": {
   "codemirror_mode": {
    "name": "ipython",
    "version": 3
   },
   "file_extension": ".py",
   "mimetype": "text/x-python",
   "name": "python",
   "nbconvert_exporter": "python",
   "pygments_lexer": "ipython3",
   "version": "3.6.3"
  }
 },
 "nbformat": 4,
 "nbformat_minor": 2
}
